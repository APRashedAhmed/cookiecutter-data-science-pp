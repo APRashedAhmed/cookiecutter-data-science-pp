{
 "cells": [
  {
   "cell_type": "markdown",
   "metadata": {},
   "source": [
    "0.0 Notebook Template\n",
    "===========\n",
    "\n",
    "Describe the background of the project, the nature of the data, and what analyses will be performed."
   ]
  },
  {
   "cell_type": "code",
   "execution_count": null,
   "metadata": {},
   "outputs": [],
   "source": [
    "# Load watermark to see the state of the machine running the notebook\n",
    "%load_ext watermark\n",
    "%watermark -v -n -m -g -b -t -p numpy,pandas,matplotlib,seaborn"
   ]
  },
  {
   "cell_type": "code",
   "execution_count": null,
   "metadata": {},
   "outputs": [],
   "source": [
    "# Load the \"autoreload\" extension\n",
    "%load_ext autoreload\n",
    "# always reload modules marked with \"%aimport\". 'autoreload 2' will set \n",
    "# everything to be autoreloaded except for what has %aimport\n",
    "%autoreload 1\n",
    "# Load matplotlib plots in interactive notebook mode\n",
    "%matplotlib notebook"
   ]
  },
  {
   "cell_type": "code",
   "execution_count": null,
   "metadata": {},
   "outputs": [],
   "source": [
    "# Imports\n",
    "import logging\n",
    "\n",
    "import numpy as np\n",
    "import pandas as pd\n",
    "\n",
    "from {{ cookiecutter.import_name }}.constants import DIR_DATA_EXT, DIR_DATA_INT, DIR_DATA_PROC\n",
    "%aimport {{ cookiecutter.import_name }}.utils\n",
    "from {{ cookiecutter.import_name }}.utils import setup_logging"
   ]
  },
  {
   "cell_type": "code",
   "execution_count": null,
   "metadata": {},
   "outputs": [],
   "source": [
    "# Global Definitions\n",
    "\n",
    "# Logging\n",
    "setup_logging()\n",
    "logger = logging.getLogger(\"{{ cookiecutter.import_name }}\") # Fully configured logger\n",
    "\n",
    "# ----------------------------------------\n",
    "# Define any other global definitions here\n",
    "# ----------------------------------------\n",
    "\n",
    "# data_str = \"\"                            # Data filename\n",
    "# data_path = DIR_DATA_PROC / data_str     # Full path to the data"
   ]
  },
  {
   "cell_type": "code",
   "execution_count": null,
   "metadata": {},
   "outputs": [],
   "source": [
    "# Get the data \n",
    "\n",
    "# data = pd.read_csv(str(data_path), delim_whitespace=False, index_col=0)\n",
    "\n",
    "# logger.info(\"Loaded dataset '{0}' from '{1}'\".format(data_path.name, data_path.parent.name))"
   ]
  },
  {
   "cell_type": "code",
   "execution_count": null,
   "metadata": {},
   "outputs": [],
   "source": [
    "# Process the data\n",
    "\n",
    "# --------------------------------\n",
    "# Perform the data definition here\n",
    "# --------------------------------\n",
    "#\n",
    "#\n",
    "\n",
    "# logger.info(\"Processed data '{0}'\".format(data_path.stem))"
   ]
  }
 ],
 "metadata": {
  "anaconda-cloud": {},
  "kernelspec": {
   "display_name": "Python 3",
   "language": "python",
   "name": "python3"
  },
  "language_info": {
   "codemirror_mode": {
    "name": "ipython",
    "version": 3
   },
   "file_extension": ".py",
   "mimetype": "text/x-python",
   "name": "python",
   "nbconvert_exporter": "python",
   "pygments_lexer": "ipython3",
   "version": "3.6.3"
  }
 },
 "nbformat": 4,
 "nbformat_minor": 2
}
