{
 "cells": [
  {
   "cell_type": "markdown",
   "metadata": {},
   "source": [
    "0.0 Notebook Template\n",
    "===========\n",
    "\n",
    "Describe the background of the project, the nature of the data, and what analyses will be performed."
   ]
  },
  {
   "cell_type": "code",
   "execution_count": null,
   "metadata": {
    "collapsed": true
   },
   "outputs": [],
   "source": [
    "# Jupyter Notebook Settings\n",
    "# This makes it so functions are automatically reloaded everytime they are \n",
    "# called, that way it isn't necessary to rerun the whole notebook after\n",
    "# every change\n",
    "\n",
    "# Load the \"autoreload\" extension\n",
    "%load_ext autoreload\n",
    "# always reload modules marked with \"%aimport\". 'autoreload 2' will set \n",
    "# everything to be autoreloaded except for what has %aimport\n",
    "%autoreload 1\n",
    "# Load matplotlib plots in interactive notebook mode\n",
    "%matplotlib notebook"
   ]
  },
  {
   "cell_type": "code",
   "execution_count": null,
   "metadata": {
    "collapsed": true
   },
   "outputs": [],
   "source": [
    "############\n",
    "# Standard #\n",
    "############\n",
    "import logging\n",
    "from pathlib import Path\n",
    "\n",
    "###############\n",
    "# Third Party #\n",
    "###############\n",
    "import numpy as np\n",
    "import pandas as pd\n",
    "\n",
    "##########\n",
    "# Module #\n",
    "##########\n",
    "%aimport {{ cookiecutter.import_name }}.utils\n",
    "from {{ cookiecutter.import_name }}.utils import get_logger, DIR_DATA_EXT, DIR_DATA_INT, DIR_DATA_PROC"
   ]
  },
  {
   "cell_type": "code",
   "execution_count": null,
   "metadata": {
    "collapsed": true
   },
   "outputs": [],
   "source": [
    "# Global Definitions\n",
    "\n",
    "logger = get_logger(__name__)            # Fully configured logger\n",
    "\n",
    "# ----------------------------------------\n",
    "# Define any other global definitions here\n",
    "# ----------------------------------------\n",
    "\n",
    "# data_str = \"\"                            # Data filename\n",
    "# data_path = DIR_DATA_PROC / data_str     # Full path to the data"
   ]
  },
  {
   "cell_type": "code",
   "execution_count": null,
   "metadata": {
    "collapsed": true
   },
   "outputs": [],
   "source": [
    "# Get the data \n",
    "\n",
    "# data = pd.read_csv(str(data_path), delim_whitespace=False, index_col=0)\n",
    "\n",
    "# logger.info(\"Loaded dataset '{0}' from '{1}'\".format(data_path.name, data_path.parent.name))"
   ]
  },
  {
   "cell_type": "code",
   "execution_count": null,
   "metadata": {
    "collapsed": true
   },
   "outputs": [],
   "source": [
    "# Process the data\n",
    "\n",
    "# --------------------------------\n",
    "# Perform the data definition here\n",
    "# --------------------------------\n",
    "#\n",
    "#\n",
    "\n",
    "# logger.info(\"Processed data '{0}'\".format(data_path.stem))"
   ]
  }
 ],
 "metadata": {
  "anaconda-cloud": {},
  "kernelspec": {
   "display_name": "Python [default]",
   "language": "python",
   "name": "python3"
  },
  "language_info": {
   "codemirror_mode": {
    "name": "ipython",
    "version": 3
   },
   "file_extension": ".py",
   "mimetype": "text/x-python",
   "name": "python",
   "nbconvert_exporter": "python",
   "pygments_lexer": "ipython3",
   "version": "3.5.3"
  }
 },
 "nbformat": 4,
 "nbformat_minor": 2
}
